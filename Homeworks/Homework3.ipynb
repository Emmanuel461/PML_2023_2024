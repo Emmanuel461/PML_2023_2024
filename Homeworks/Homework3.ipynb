{
  "nbformat": 4,
  "nbformat_minor": 0,
  "metadata": {
    "colab": {
      "provenance": [],
      "authorship_tag": "ABX9TyPqiiYoYZcL+3LIqNDK0kTz",
      "include_colab_link": true
    },
    "kernelspec": {
      "name": "python3",
      "display_name": "Python 3"
    },
    "language_info": {
      "name": "python"
    }
  },
  "cells": [
    {
      "cell_type": "markdown",
      "metadata": {
        "id": "view-in-github",
        "colab_type": "text"
      },
      "source": [
        "<a href=\"https://colab.research.google.com/github/Emmanuel461/PML_2023_2024/blob/main/Homework3.ipynb\" target=\"_parent\"><img src=\"https://colab.research.google.com/assets/colab-badge.svg\" alt=\"Open In Colab\"/></a>"
      ]
    },
    {
      "cell_type": "code",
      "execution_count": 6,
      "metadata": {
        "colab": {
          "base_uri": "https://localhost:8080/",
          "height": 430
        },
        "id": "xU0z6wF66fDV",
        "outputId": "2f05bb4d-fe0f-4ccd-e7df-dd3088052d4f"
      },
      "outputs": [
        {
          "output_type": "display_data",
          "data": {
            "text/plain": [
              "<Figure size 640x480 with 1 Axes>"
            ],
            "image/png": "[encoded data removed]"
          },
          "metadata": {}
        }
      ],
      "source": [
        "from matplotlib.animation import FuncAnimation\n",
        "from functools import partial\n",
        "import matplotlib.pyplot as plt\n",
        "import numpy as np\n",
        "import random\n",
        "import pandas as pd\n",
        "from sklearn.model_selection import train_test_split\n",
        "\n",
        "class Perceptron():\n",
        "    #initialize hyperparameters (learning rate and number of iterations)\n",
        "    def __init__(self, eta=0.1, n_iter=50, batch_size=10, nameA='', nameB=''):\n",
        "        self.eta = eta\n",
        "        self.n_iter = n_iter\n",
        "        self.batch_size = batch_size\n",
        "        self.nameA = nameA\n",
        "        self.nameB = nameB\n",
        "\n",
        "    def step_fit(self, X, y):\n",
        "        for i in range(0, X.shape[0], self.batch_size):\n",
        "            X_batch = X[i:i+self.batch_size]\n",
        "            y_batch = y[i:i+self.batch_size]\n",
        "            errors, Loss = self.loss(X_batch,y_batch)\n",
        "            self.Loss = Loss\n",
        "            #print(self.Loss)\n",
        "            #print(errors)\n",
        "            self.w_[1:] += self.eta * X_batch.T.dot(errors)\n",
        "            self.w_[0] += self.eta * errors.sum()\n",
        "        return self\n",
        "\n",
        "    def net_input(self, X):\n",
        "        return np.dot(X, self.w_[1:]) + self.w_[0]\n",
        "\n",
        "    def predict(self, X):\n",
        "        return np.where(self.net_input(X) >= 0.0, 1, -1)\n",
        "\n",
        "    def loss(self, X, y):\n",
        "        errors = y - self.predict(X)\n",
        "        Loss = ((errors ** 2).sum()) ** 0.5\n",
        "        return errors,Loss\n",
        "\n",
        "    def shuffle(self, X, y):\n",
        "        r = np.random.permutation(len(y))\n",
        "        return X[r], y[r]\n",
        "\n",
        "    def init_plot(self):\n",
        "        self.line.set_data([],[])\n",
        "        return self.line\n",
        "\n",
        "    def animate(self, iteration_number, X, y):\n",
        "        # Shuffling the data\n",
        "        X, y = self.shuffle(X, y)\n",
        "        # Fit\n",
        "        self.step_fit(X, y)\n",
        "        x, y = self.plot_line(X)\n",
        "        self.line.set_data(x, y)\n",
        "        #loss = self.loss(X, y)\n",
        "        if iteration_number%2==0:\n",
        "            self.ax.text(min(X[:,0])+2, min(X[:,1])+0.5, f'Iteration: {iteration_number}, Loss: {round(self.Loss,4)}', fontsize=12)  # Update iteration number\n",
        "        else:\n",
        "            self.ax.text(min(X[:,0])+2, min(X[:,1])+0.5, 'Iteration:'+' '*30, fontsize=12, bbox=dict(facecolor='white', alpha=1))\n",
        "        return self.line,\n",
        "        #self.ax.text(min(X[:,0])+2, min(X[:,1])+0.5, f'Iteration: {iteration_number}, Loss: {self.Loss}', fontsize=12)\n",
        "\n",
        "    def plot_line(self, X):\n",
        "        x = []\n",
        "        y = []\n",
        "        slope = -(self.w_[0]/self.w_[2])/(self.w_[0]/self.w_[1])\n",
        "        intercept = -self.w_[0]/self.w_[2]\n",
        "        for i in np.linspace(np.amin(X[:,0])-0.5,np.amax(X[:,0])+0.5):\n",
        "            #y=mx+c, m is slope and c is intercept\n",
        "            x.append(i)\n",
        "            y.append((slope*i) + intercept)\n",
        "        return x, y\n",
        "\n",
        "    def animated_fit(self, X, y):\n",
        "      self.Loss= 0\n",
        "      self.w_ = [random.uniform(-1.0, 1.0) for _ in range(1+X.shape[1])] # Inicialización de pesos aleatorios\n",
        "\n",
        "      # Se define la figura y ejes\n",
        "      self.fig, self.ax = plt.subplots()\n",
        "\n",
        "      # Se establecen los límites de los ejes\n",
        "      self.ax.set_xlim(min(X[:,0])-0.5, max(X[:,0])+0.5)\n",
        "      self.ax.set_ylim(min(X[:,1])-0.5, max(X[:,1])+0.5)\n",
        "\n",
        "      # Se trazan los puntos de entrenamiento\n",
        "      self.scatter_spA = self.ax.scatter(X[y == -1, 0], X[y == -1, 1], c='r', marker = 'x', label=self.nameA)\n",
        "      self.scatter_spB = self.ax.scatter(X[y == 1, 0], X[y == 1, 1], c='b', marker='o', label=self.nameB)\n",
        "\n",
        "      # Se agregan las etiquetas\n",
        "      self.ax.legend()\n",
        "\n",
        "      # Se inicializa la línea de separación\n",
        "      self.line, = self.ax.plot([], [], lw=2)\n",
        "\n",
        "      # Se crea la animación\n",
        "      anim = FuncAnimation(self.fig, partial(self.animate, X=X, y=y), init_func=self.init_plot, frames=self.n_iter, interval=200)\n",
        "      anim.save('learning_process.gif')\n",
        "\n",
        "\n",
        "#import dataset\n",
        "df = pd.read_csv('https://archive.ics.uci.edu/ml/machine-learning-databases/iris/iris.data', header=None)\n",
        "\n",
        "SPECIES_1= {'name':\"Iris-setosa\",'s':0,'end':50} #0:50 # small size\n",
        "SPECIES_2= {'name':\"Iris-versicolor\",'s':50,'end':100} # 50:100\n",
        "SPECIES_3= {'name':\"Iris-virginica\",'s':100,'end':150} # 100:150\n",
        "spA,spB=SPECIES_2,SPECIES_3\n",
        "\n",
        "\n",
        "\n",
        "#preparing our data to be understood by our model\n",
        "X = df.iloc[np.r_[spA['s']:spA['end'],spB['s']:spB['end']], [0,2]].values\n",
        "y = df.iloc[np.r_[spA['s']:spA['end'],spB['s']:spB['end']], 4].values\n",
        "y = np.where(y == spB['name'], -1, 1) # discrete response\n",
        "\n",
        "\n",
        "X_train, X_test, y_train, y_test = train_test_split(X, y, test_size=0.2, random_state=42)\n",
        "\n",
        "# Creating an instance of a Perceptron object\n",
        "ppn = Perceptron(eta=0.0001, n_iter=150, batch_size=25, nameA=spA['name'], nameB=spB['name'])\n",
        "ppn.animated_fit(X_train, y_train)"
      ]
    },
    {
      "cell_type": "code",
      "source": [
        "from sklearn.metrics import confusion_matrix\n",
        "import numpy as np\n",
        "import matplotlib.pyplot as plt # to plot\n",
        "\n",
        "\n",
        "y_pred = ppn.predict(X_test)\n",
        "\n",
        "# Compute confusion matrix\n",
        "cm = confusion_matrix(y_test, y_pred)\n",
        "# Define class labels\n",
        "classes = ['Zero', 'One']\n",
        "# Plot confusion matrix\n",
        "plt.imshow(cm, interpolation='nearest', cmap=plt.cm.Blues)\n",
        "plt.title('Confusion Matrix')\n",
        "plt.colorbar()\n",
        "tick_marks = np.arange(len(classes))\n",
        "plt.xticks(tick_marks, classes, rotation=45)\n",
        "plt.yticks(tick_marks, classes)\n",
        "plt.xlabel('Predicted label')\n",
        "plt.ylabel('True label')\n",
        "# Fill in confusion matrix with values\n",
        "thresh = cm.max() / 2.\n",
        "for i, j in np.ndindex(cm.shape):\n",
        "    plt.text(j, i, format(cm[i, j], 'd'),\n",
        "             horizontalalignment='center',\n",
        "             color='white' if cm[i, j] > thresh else 'black')\n",
        "plt.tight_layout()\n",
        "plt.show()\n"
      ],
      "metadata": {
        "id": "0ziYEQ476kxR"
      },
      "execution_count": null,
      "outputs": []
    },
    {
      "cell_type": "code",
      "source": [
        "from sklearn.metrics import classification_report\n",
        "import numpy as np\n",
        "# Compute confusion matrix\n",
        "report = classification_report(y_test, y_pred)\n",
        "print(report)"
      ],
      "metadata": {
        "colab": {
          "base_uri": "https://localhost:8080/"
        },
        "id": "6j6_T2BW6zlz",
        "outputId": "1390f614-e4fe-4a34-a5a8-3f2843c839f5"
      },
      "execution_count": 8,
      "outputs": [
        {
          "output_type": "stream",
          "name": "stdout",
          "text": [
            "              precision    recall  f1-score   support\n",
            "\n",
            "          -1       0.80      1.00      0.89         8\n",
            "           1       1.00      0.83      0.91        12\n",
            "\n",
            "    accuracy                           0.90        20\n",
            "   macro avg       0.90      0.92      0.90        20\n",
            "weighted avg       0.92      0.90      0.90        20\n",
            "\n"
          ]
        }
      ]
    }
  ]
}
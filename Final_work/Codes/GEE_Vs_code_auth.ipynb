{
 "cells": [
  {
   "cell_type": "markdown",
   "metadata": {},
   "source": [
    "## Instalation of the libraries requiered and autentication with GEE"
   ]
  },
  {
   "cell_type": "code",
   "execution_count": null,
   "metadata": {},
   "outputs": [],
   "source": [
    "%pip install -r requirements.txt"
   ]
  },
  {
   "cell_type": "code",
   "execution_count": 10,
   "metadata": {},
   "outputs": [
    {
     "name": "stdout",
     "output_type": "stream",
     "text": [
      "Please visit this URL to authorize this application: https://accounts.google.com/o/oauth2/auth?response_type=code&client_id=775448020170-552oojetfaabv5mcd26hs7j281prngoq.apps.googleusercontent.com&redirect_uri=http%3A%2F%2Flocalhost%3A64473%2F&scope=https%3A%2F%2Fwww.googleapis.com%2Fauth%2Fcloud-platform&state=eiRR21adMaEAoPXBAxY2ms8w775qlA&access_type=offline\n",
      "Autenticación exitosa\n"
     ]
    }
   ],
   "source": [
    "import os\n",
    "import json\n",
    "from google_auth_oauthlib.flow import InstalledAppFlow\n",
    "from google.auth.transport.requests import Request\n",
    "import google.auth\n",
    "\n",
    "# Ruta al archivo JSON con las credenciales\n",
    "credentials_path = 'C:/Users/cespe/client_secret_775448020170-552oojetfaabv5mcd26hs7j281prngoq.apps.googleusercontent.com.json'\n",
    "token_path = 'token.json'\n",
    "\n",
    "# Autenticación usando las credenciales de cliente OAuth 2.0\n",
    "def get_credentials():\n",
    "    credentials = None\n",
    "    if os.path.exists(token_path):\n",
    "        with open(token_path, 'r') as token_file:\n",
    "            credentials = google.oauth2.credentials.Credentials.from_authorized_user_info(\n",
    "                json.load(token_file)\n",
    "            )\n",
    "\n",
    "    if not credentials or not credentials.valid:\n",
    "        if credentials and credentials.expired and credentials.refresh_token:\n",
    "            credentials.refresh(Request())\n",
    "        else:\n",
    "            flow = InstalledAppFlow.from_client_secrets_file(\n",
    "                credentials_path,\n",
    "                scopes=['https://www.googleapis.com/auth/cloud-platform']\n",
    "            )\n",
    "            credentials = flow.run_local_server(port=0)\n",
    "\n",
    "        # Guarda las credenciales para la próxima ejecución\n",
    "        with open(token_path, 'w') as token_file:\n",
    "            token_file.write(credentials.to_json())\n",
    "\n",
    "    return credentials\n",
    "\n",
    "credentials = get_credentials()\n",
    "\n",
    "# Ahora puedes usar `sheet` para interactuar con Google Sheets\n",
    "print(\"Autenticación exitosa\")\n",
    "\n"
   ]
  }
 ],
 "metadata": {
  "kernelspec": {
   "display_name": "agweather-qaqc-ups7weH7",
   "language": "python",
   "name": "python3"
  },
  "language_info": {
   "codemirror_mode": {
    "name": "ipython",
    "version": 3
   },
   "file_extension": ".py",
   "mimetype": "text/x-python",
   "name": "python",
   "nbconvert_exporter": "python",
   "pygments_lexer": "ipython3",
   "version": "3.10.11"
  }
 },
 "nbformat": 4,
 "nbformat_minor": 2
}
